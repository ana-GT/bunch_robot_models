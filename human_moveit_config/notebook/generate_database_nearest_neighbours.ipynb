{
 "cells": [
  {
   "cell_type": "code",
   "execution_count": 1,
   "metadata": {
    "collapsed": false
   },
   "outputs": [],
   "source": [
    "import numpy as np\n",
    "from human_moveit_config.human_model import HumanModel\n",
    "import transformations\n",
    "import timeit\n",
    "import rospy\n",
    "import time\n",
    "from scipy.spatial import cKDTree\n",
    "from copy import deepcopy\n",
    "import tf\n",
    "import time"
   ]
  },
  {
   "cell_type": "code",
   "execution_count": 2,
   "metadata": {
    "collapsed": false
   },
   "outputs": [],
   "source": [
    "def create_database(link, base, joint_names, nb_points=1):\n",
    "    X = []\n",
    "    for i in range(nb_points):\n",
    "        state = human.get_random_state()\n",
    "        fk = human.forward_kinematic(state, links=link, base=base)\n",
    "        joints = []\n",
    "        for j in joint_names:\n",
    "            joints.append(state.position[state.name.index(j)])\n",
    "        # append quaternion in both hemispheres\n",
    "        for i in range(2):\n",
    "            x = deepcopy(joints)\n",
    "            x += fk[link][0]\n",
    "            x += ((-1)**i * np.array(fk[link][1]) / 40).tolist()\n",
    "        X.append(x)\n",
    "    names = deepcopy(joint_names)\n",
    "    names += [link + '_x', link + '_y', link + '_z']\n",
    "    names += [link + '_qx', link + '_qy', link + '_qz', link + '_qw']\n",
    "    np.savez_compressed('/tmp/database_' + link, names=names, data=X)"
   ]
  },
  {
   "cell_type": "code",
   "execution_count": 3,
   "metadata": {
    "collapsed": false
   },
   "outputs": [],
   "source": [
    "rospy.init_node('test')"
   ]
  },
  {
   "cell_type": "code",
   "execution_count": 4,
   "metadata": {
    "collapsed": false
   },
   "outputs": [],
   "source": [
    "human = HumanModel()\n",
    "prefix = human.prefix"
   ]
  },
  {
   "cell_type": "code",
   "execution_count": 5,
   "metadata": {
    "collapsed": false
   },
   "outputs": [],
   "source": [
    "links = [prefix + '/shoulder_center', prefix + '/head', prefix + '/left_elbow', prefix + '/left_hand',\n",
    "         prefix + '/right_elbow', prefix + '/right_hand']\n",
    "bases = [prefix + '/base', prefix + '/shoulder_center', prefix + '/shoulder_center',\n",
    "         prefix + '/left_elbow', prefix + '/shoulder_center', prefix + '/right_elbow']\n",
    "joint_by_links = {}\n",
    "for l in links:\n",
    "    joint_by_links[l] = human.joint_by_links[l]\n",
    "for s in ['right', 'left']:\n",
    "    joint_by_links[prefix + '/' + s + '_elbow'] = (human.joint_by_links[prefix + '/' + s + '_shoulder'] +\n",
    "                                                   joint_by_links[prefix + '/' + s + '_elbow'])"
   ]
  },
  {
   "cell_type": "code",
   "execution_count": null,
   "metadata": {
    "collapsed": false
   },
   "outputs": [],
   "source": [
    "nb_points = 10000\n",
    "for i in range(len(links)):\n",
    "    create_database(links[i], bases[i], joint_by_links[links[i]], nb_points=nb_points)"
   ]
  },
  {
   "cell_type": "code",
   "execution_count": 6,
   "metadata": {
    "collapsed": false
   },
   "outputs": [
    {
     "name": "stdout",
     "output_type": "stream",
     "text": [
      "precision: 1.88733716722e-06\n"
     ]
    }
   ],
   "source": [
    "state = human.get_current_state()\n",
    "state.position = [0] * len(state.name)\n",
    "fk_test = human.forward_kinematic(state, links=links)\n",
    "ik = human.inverse_kinematic(fk_test, tolerance=0.0001)\n",
    "ik_res = human.forward_kinematic(ik, links=links)\n",
    "avg_prec = 0\n",
    "for l in links:\n",
    "    avg_prec += np.linalg.norm(np.array(fk_test[l][0]) - np.array(ik_res[l][0]))\n",
    "    avg_prec += np.linalg.norm(np.array(fk_test[l][1]) - np.array(ik_res[l][1]))\n",
    "avg_prec /= len(links)\n",
    "print 'precision: ' + str(avg_prec)"
   ]
  },
  {
   "cell_type": "code",
   "execution_count": 17,
   "metadata": {
    "collapsed": false
   },
   "outputs": [
    {
     "name": "stdout",
     "output_type": "stream",
     "text": [
      "time: 0.0385030317307\n",
      "precision: 0.00630696805122\n"
     ]
    }
   ],
   "source": [
    "avg_time = 0\n",
    "avg_prec = 0\n",
    "for i in range(100):\n",
    "    state = human.get_random_state()\n",
    "    fk_test = human.forward_kinematic(state, links=links)\n",
    "    start = time.time()\n",
    "    ik = human.inverse_kinematic(fk_test, tolerance=0.001)\n",
    "    avg_time += (time.time() - start)\n",
    "    ik_res = human.forward_kinematic(ik, links=links)\n",
    "    prec = 0\n",
    "    for l in links:\n",
    "        prec += np.linalg.norm(np.array(fk_test[l][0]) - np.array(ik_res[l][0]))\n",
    "        prec += np.linalg.norm(np.array(fk_test[l][1]) - np.array(ik_res[l][1]))\n",
    "    avg_prec += prec\n",
    "avg_time /= 100\n",
    "avg_prec /= (100 * len(links))\n",
    "\n",
    "print 'time: ' + str(avg_time)\n",
    "print 'precision: ' + str(avg_prec)"
   ]
  },
  {
   "cell_type": "code",
   "execution_count": null,
   "metadata": {
    "collapsed": false
   },
   "outputs": [],
   "source": [
    "state = human.get_random_state()\n",
    "fk_test = human.forward_kinematic(state, links=links)\n",
    "ik = human.inverse_kinematic(fk_test)\n",
    "test_link = links\n",
    "ground_truth = human.forward_kinematic(state, links=test_link)\n",
    "res_ik = human.forward_kinematic(ik, links=test_link)\n",
    "for l in test_link:\n",
    "    print l\n",
    "    print ground_truth[l]\n",
    "    print '-------------'\n",
    "    print res_ik[l]\n",
    "    print '##############'"
   ]
  },
  {
   "cell_type": "code",
   "execution_count": null,
   "metadata": {
    "collapsed": false
   },
   "outputs": [],
   "source": [
    "joint_by_links"
   ]
  },
  {
   "cell_type": "code",
   "execution_count": null,
   "metadata": {
    "collapsed": true
   },
   "outputs": [],
   "source": []
  }
 ],
 "metadata": {
  "kernelspec": {
   "display_name": "Python 2",
   "language": "python",
   "name": "python2"
  },
  "language_info": {
   "codemirror_mode": {
    "name": "ipython",
    "version": 2
   },
   "file_extension": ".py",
   "mimetype": "text/x-python",
   "name": "python",
   "nbconvert_exporter": "python",
   "pygments_lexer": "ipython2",
   "version": "2.7.6"
  }
 },
 "nbformat": 4,
 "nbformat_minor": 0
}
