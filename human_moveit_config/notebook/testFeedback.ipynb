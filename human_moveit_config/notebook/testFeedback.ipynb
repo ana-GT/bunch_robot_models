{
 "cells": [
  {
   "cell_type": "code",
   "execution_count": 1,
   "metadata": {
    "collapsed": false
   },
   "outputs": [],
   "source": [
    "import rospy\n",
    "from human_moveit_config.human_model import HumanModel\n",
    "from sensor_msgs.msg import JointState\n",
    "from os.path import join\n",
    "import json\n",
    "from rospkg import RosPack\n",
    "from baxter_commander.persistence import dicttostate\n",
    "import re\n",
    "\n",
    "import plotly.plotly as py\n",
    "import plotly.graph_objs as go\n",
    "import pandas as pd\n",
    "import numpy as np\n",
    "\n",
    "import socket\n",
    "import binascii\n",
    "import struct\n",
    "\n",
    "from tools.udp_link import UDPLink "
   ]
  },
  {
   "cell_type": "code",
   "execution_count": 2,
   "metadata": {
    "collapsed": false
   },
   "outputs": [],
   "source": [
    "rospy.init_node('testFeedback')"
   ]
  },
  {
   "cell_type": "code",
   "execution_count": 3,
   "metadata": {
    "collapsed": false
   },
   "outputs": [],
   "source": [
    "rospack = RosPack()\n",
    "postures_file = join(rospack.get_path('reba_optim'), 'tmp', 'postures.json')\n",
    "with open(postures_file) as datafile:\n",
    "    postures_data = json.load(datafile)"
   ]
  },
  {
   "cell_type": "code",
   "execution_count": 4,
   "metadata": {
    "collapsed": false
   },
   "outputs": [],
   "source": [
    "pub = rospy.Publisher('reba_assess', JointState, queue_size=10)"
   ]
  },
  {
   "cell_type": "code",
   "execution_count": 5,
   "metadata": {
    "collapsed": false
   },
   "outputs": [],
   "source": [
    "human = HumanModel(control=True)"
   ]
  },
  {
   "cell_type": "code",
   "execution_count": 6,
   "metadata": {
    "collapsed": false
   },
   "outputs": [],
   "source": [
    "rate = rospy.Rate(5)"
   ]
  },
  {
   "cell_type": "code",
   "execution_count": null,
   "metadata": {
    "collapsed": false
   },
   "outputs": [],
   "source": [
    "####### SINGLE STATE TEST #######\n",
    "nb_states = 1\n",
    "state = human.get_random_state()\n",
    "human.send_state(state)\n",
    "for i in range(nb_states):\n",
    "    pub.publish(state)\n",
    "    rate.sleep()"
   ]
  },
  {
   "cell_type": "code",
   "execution_count": null,
   "metadata": {
    "collapsed": false
   },
   "outputs": [],
   "source": [
    "####### RANDOM STATE TEST #######\n",
    "for i in range(10000):\n",
    "    state = human.get_random_state()\n",
    "    human.send_state(state)\n",
    "    pub.publish(state)\n",
    "    rate.sleep()"
   ]
  },
  {
   "cell_type": "code",
   "execution_count": null,
   "metadata": {
    "collapsed": true
   },
   "outputs": [],
   "source": [
    "####### RESET MODEL ########\n",
    "T_state = human.get_initial_state()\n",
    "human.send_state(T_state)"
   ]
  },
  {
   "cell_type": "code",
   "execution_count": null,
   "metadata": {
    "collapsed": false
   },
   "outputs": [],
   "source": [
    "####### CLASS STATE TEST #######\n",
    "class_value = 1\n",
    "states = postures_data[class_value - 1]\n",
    "for s in states:\n",
    "    state = dicttostate(s).joint_state\n",
    "    human.send_state(state)\n",
    "    pub.publish(state)   \n",
    "    udp_send_state(state)\n",
    "\n",
    "    rate.sleep()"
   ]
  },
  {
   "cell_type": "code",
   "execution_count": null,
   "metadata": {
    "collapsed": true
   },
   "outputs": [],
   "source": []
  },
  {
   "cell_type": "code",
   "execution_count": 7,
   "metadata": {
    "collapsed": true
   },
   "outputs": [],
   "source": [
    "udp = UDPLink()"
   ]
  },
  {
   "cell_type": "code",
   "execution_count": 8,
   "metadata": {
    "collapsed": true
   },
   "outputs": [],
   "source": [
    "def send_camera(cam_id):\n",
    "    udp.send_int('/camera', cam_id)"
   ]
  },
  {
   "cell_type": "code",
   "execution_count": 10,
   "metadata": {
    "collapsed": true
   },
   "outputs": [],
   "source": [
    "def send_model(model_id):\n",
    "    udp.send_int('/model', model_id)"
   ]
  },
  {
   "cell_type": "code",
   "execution_count": 25,
   "metadata": {
    "collapsed": true
   },
   "outputs": [],
   "source": [
    "def send_joint(joint, value, port=5005):\n",
    "    vect = np.zeros(92)    \n",
    "    vect[joint] = value\n",
    "    udp.send_float_vector('/posture', vect)"
   ]
  },
  {
   "cell_type": "code",
   "execution_count": 12,
   "metadata": {
    "collapsed": true
   },
   "outputs": [],
   "source": [
    "def udp_send_state(joint_state, port=5005):\n",
    "    # create a vector of 92 elements\n",
    "    vect = np.zeros(92)\n",
    "    \n",
    "    \n",
    "    # offset at T pose\n",
    "    \n",
    "    \n",
    "    udp.send_float_vector(vect)"
   ]
  },
  {
   "cell_type": "code",
   "execution_count": null,
   "metadata": {
    "collapsed": false
   },
   "outputs": [],
   "source": [
    "human.send_state(state)\n",
    "pub.publish(state)\n",
    "udp_send_state(state)"
   ]
  },
  {
   "cell_type": "code",
   "execution_count": null,
   "metadata": {
    "collapsed": true
   },
   "outputs": [],
   "source": [
    "udp_send_state(T_state)"
   ]
  },
  {
   "cell_type": "code",
   "execution_count": null,
   "metadata": {
    "collapsed": false
   },
   "outputs": [],
   "source": [
    "state"
   ]
  },
  {
   "cell_type": "code",
   "execution_count": null,
   "metadata": {
    "collapsed": true
   },
   "outputs": [],
   "source": []
  },
  {
   "cell_type": "code",
   "execution_count": 23,
   "metadata": {
    "collapsed": false
   },
   "outputs": [],
   "source": [
    "send_camera(1)"
   ]
  },
  {
   "cell_type": "code",
   "execution_count": 24,
   "metadata": {
    "collapsed": true
   },
   "outputs": [],
   "source": [
    "send_model(1)"
   ]
  },
  {
   "cell_type": "code",
   "execution_count": null,
   "metadata": {
    "collapsed": true
   },
   "outputs": [],
   "source": [
    "send_joint()"
   ]
  }
 ],
 "metadata": {
  "kernelspec": {
   "display_name": "Python 2",
   "language": "python",
   "name": "python2"
  },
  "language_info": {
   "codemirror_mode": {
    "name": "ipython",
    "version": 2
   },
   "file_extension": ".py",
   "mimetype": "text/x-python",
   "name": "python",
   "nbconvert_exporter": "python",
   "pygments_lexer": "ipython2",
   "version": "2.7.6"
  }
 },
 "nbformat": 4,
 "nbformat_minor": 0
}
