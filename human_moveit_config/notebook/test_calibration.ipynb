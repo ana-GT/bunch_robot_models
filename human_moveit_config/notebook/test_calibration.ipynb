{
 "cells": [
  {
   "cell_type": "code",
   "execution_count": 1,
   "metadata": {
    "collapsed": true
   },
   "outputs": [],
   "source": [
    "import tf\n",
    "import rospy\n",
    "import json\n",
    "import rospkg\n",
    "import transformations"
   ]
  },
  {
   "cell_type": "code",
   "execution_count": 2,
   "metadata": {
    "collapsed": true
   },
   "outputs": [],
   "source": [
    "def frame_publisher(Cskeleton, sensor, Kskeleton=None):\n",
    "    tfb = tf.TransformBroadcaster()\n",
    "    rospy.sleep(1)\n",
    "    rate = rospy.Rate(10)\n",
    "    while not rospy.is_shutdown():\n",
    "        for key in Cskeleton.keys():\n",
    "            if Kskeleton is not None:\n",
    "                tfb.sendTransform(Kskeleton[key][0], Kskeleton[key][1], rospy.Time.now(),\n",
    "                                  '/human/'+key, '/optitrack_frame')    \n",
    "            tfb.sendTransform(Cskeleton[key][0], Cskeleton[key][1], rospy.Time.now(),\n",
    "                              '/human/'+key+'_calibr', '/optitrack_frame')\n",
    "            rate.sleep()"
   ]
  },
  {
   "cell_type": "code",
   "execution_count": 3,
   "metadata": {
    "collapsed": false
   },
   "outputs": [],
   "source": [
    "rospy.init_node('test_calibration')"
   ]
  },
  {
   "cell_type": "code",
   "execution_count": 4,
   "metadata": {
    "collapsed": false
   },
   "outputs": [],
   "source": [
    "rospack = rospkg.RosPack()"
   ]
  },
  {
   "cell_type": "code",
   "execution_count": 5,
   "metadata": {
    "collapsed": false
   },
   "outputs": [],
   "source": [
    "sensor = 'opt'"
   ]
  },
  {
   "cell_type": "code",
   "execution_count": 61,
   "metadata": {
    "collapsed": true
   },
   "outputs": [],
   "source": [
    "sensor = 'kinect'"
   ]
  },
  {
   "cell_type": "code",
   "execution_count": 6,
   "metadata": {
    "collapsed": false
   },
   "outputs": [],
   "source": [
    "skeleton_file = rospack.get_path(\"human_moveit_config\")+'/tmp/skeleton.json'\n",
    "# read the T pose from human\n",
    "with open(skeleton_file) as data_file:\n",
    "    data_skeletons = json.load(data_file)\n",
    "skeleton = data_skeletons[sensor]"
   ]
  },
  {
   "cell_type": "code",
   "execution_count": 7,
   "metadata": {
    "collapsed": false
   },
   "outputs": [],
   "source": [
    "calibration_file = rospack.get_path(\"human_moveit_config\")+'/tmp/sensor_calibration.json'\n",
    "# read the T pose from human\n",
    "with open(calibration_file) as data_file:\n",
    "    data_calibration = json.load(data_file)\n",
    "calibration = data_calibration[sensor]"
   ]
  },
  {
   "cell_type": "code",
   "execution_count": 8,
   "metadata": {
    "collapsed": true
   },
   "outputs": [],
   "source": [
    "KtB = skeleton['base']"
   ]
  },
  {
   "cell_type": "code",
   "execution_count": 9,
   "metadata": {
    "collapsed": false
   },
   "outputs": [],
   "source": [
    "# convert back all skeletons frames into kinect\n",
    "Kskeleton = {}\n",
    "for key, value in skeleton.iteritems():\n",
    "    if key != 'base':\n",
    "        Kskeleton[key] = transformations.multiply_transform(KtB, value)\n",
    "    else:\n",
    "        Kskeleton[key] = value"
   ]
  },
  {
   "cell_type": "code",
   "execution_count": 10,
   "metadata": {
    "collapsed": false
   },
   "outputs": [],
   "source": [
    "# convert all skeleton data to their calibrated values\n",
    "Cskeleton = {}\n",
    "base_transform = transformations.inverse_transform(calibration['base'])\n",
    "for key, value in calibration.iteritems():\n",
    "    Cskeleton[key] = transformations.multiply_transform(Kskeleton[key], value)"
   ]
  },
  {
   "cell_type": "code",
   "execution_count": 24,
   "metadata": {
    "collapsed": false
   },
   "outputs": [
    {
     "ename": "KeyboardInterrupt",
     "evalue": "",
     "output_type": "error",
     "traceback": [
      "\u001b[1;31m---------------------------------------------------------------------------\u001b[0m",
      "\u001b[1;31mKeyboardInterrupt\u001b[0m                         Traceback (most recent call last)",
      "\u001b[1;32m<ipython-input-24-f2fcf27b03b7>\u001b[0m in \u001b[0;36m<module>\u001b[1;34m()\u001b[0m\n\u001b[1;32m----> 1\u001b[1;33m \u001b[0mframe_publisher\u001b[0m\u001b[1;33m(\u001b[0m\u001b[0mCskeleton\u001b[0m\u001b[1;33m,\u001b[0m \u001b[0msensor\u001b[0m\u001b[1;33m)\u001b[0m\u001b[1;33m\u001b[0m\u001b[0m\n\u001b[0m",
      "\u001b[1;32m<ipython-input-2-786a2246da8a>\u001b[0m in \u001b[0;36mframe_publisher\u001b[1;34m(Cskeleton, sensor, Kskeleton)\u001b[0m\n\u001b[0;32m     10\u001b[0m             tfb.sendTransform(Cskeleton[key][0], Cskeleton[key][1], rospy.Time.now(),\n\u001b[0;32m     11\u001b[0m                               '/human/'+key+'_calibr', '/'+sensor+'_frame')\n\u001b[1;32m---> 12\u001b[1;33m             \u001b[0mrate\u001b[0m\u001b[1;33m.\u001b[0m\u001b[0msleep\u001b[0m\u001b[1;33m(\u001b[0m\u001b[1;33m)\u001b[0m\u001b[1;33m\u001b[0m\u001b[0m\n\u001b[0m",
      "\u001b[1;32m/opt/ros/indigo/lib/python2.7/dist-packages/rospy/timer.pyc\u001b[0m in \u001b[0;36msleep\u001b[1;34m(self)\u001b[0m\n\u001b[0;32m     97\u001b[0m         \"\"\"\n\u001b[0;32m     98\u001b[0m         \u001b[0mcurr_time\u001b[0m \u001b[1;33m=\u001b[0m \u001b[0mrospy\u001b[0m\u001b[1;33m.\u001b[0m\u001b[0mrostime\u001b[0m\u001b[1;33m.\u001b[0m\u001b[0mget_rostime\u001b[0m\u001b[1;33m(\u001b[0m\u001b[1;33m)\u001b[0m\u001b[1;33m\u001b[0m\u001b[0m\n\u001b[1;32m---> 99\u001b[1;33m         \u001b[0msleep\u001b[0m\u001b[1;33m(\u001b[0m\u001b[0mself\u001b[0m\u001b[1;33m.\u001b[0m\u001b[0m_remaining\u001b[0m\u001b[1;33m(\u001b[0m\u001b[0mcurr_time\u001b[0m\u001b[1;33m)\u001b[0m\u001b[1;33m)\u001b[0m\u001b[1;33m\u001b[0m\u001b[0m\n\u001b[0m\u001b[0;32m    100\u001b[0m         \u001b[0mself\u001b[0m\u001b[1;33m.\u001b[0m\u001b[0mlast_time\u001b[0m \u001b[1;33m=\u001b[0m \u001b[0mself\u001b[0m\u001b[1;33m.\u001b[0m\u001b[0mlast_time\u001b[0m \u001b[1;33m+\u001b[0m \u001b[0mself\u001b[0m\u001b[1;33m.\u001b[0m\u001b[0msleep_dur\u001b[0m\u001b[1;33m\u001b[0m\u001b[0m\n\u001b[0;32m    101\u001b[0m \u001b[1;33m\u001b[0m\u001b[0m\n",
      "\u001b[1;32m/opt/ros/indigo/lib/python2.7/dist-packages/rospy/timer.pyc\u001b[0m in \u001b[0;36msleep\u001b[1;34m(duration)\u001b[0m\n\u001b[0;32m    123\u001b[0m             \u001b[1;32mreturn\u001b[0m\u001b[1;33m\u001b[0m\u001b[0m\n\u001b[0;32m    124\u001b[0m         \u001b[1;32melse\u001b[0m\u001b[1;33m:\u001b[0m\u001b[1;33m\u001b[0m\u001b[0m\n\u001b[1;32m--> 125\u001b[1;33m             \u001b[0mrospy\u001b[0m\u001b[1;33m.\u001b[0m\u001b[0mrostime\u001b[0m\u001b[1;33m.\u001b[0m\u001b[0mwallsleep\u001b[0m\u001b[1;33m(\u001b[0m\u001b[0mduration\u001b[0m\u001b[1;33m)\u001b[0m\u001b[1;33m\u001b[0m\u001b[0m\n\u001b[0m\u001b[0;32m    126\u001b[0m     \u001b[1;32melse\u001b[0m\u001b[1;33m:\u001b[0m\u001b[1;33m\u001b[0m\u001b[0m\n\u001b[0;32m    127\u001b[0m         \u001b[0minitial_rostime\u001b[0m \u001b[1;33m=\u001b[0m \u001b[0mrospy\u001b[0m\u001b[1;33m.\u001b[0m\u001b[0mrostime\u001b[0m\u001b[1;33m.\u001b[0m\u001b[0mget_rostime\u001b[0m\u001b[1;33m(\u001b[0m\u001b[1;33m)\u001b[0m\u001b[1;33m\u001b[0m\u001b[0m\n",
      "\u001b[1;32m/opt/ros/indigo/lib/python2.7/dist-packages/rospy/rostime.pyc\u001b[0m in \u001b[0;36mwallsleep\u001b[1;34m(duration)\u001b[0m\n\u001b[0;32m    294\u001b[0m             \u001b[1;32mpass\u001b[0m\u001b[1;33m\u001b[0m\u001b[0m\n\u001b[0;32m    295\u001b[0m     \u001b[1;32melse\u001b[0m\u001b[1;33m:\u001b[0m\u001b[1;33m\u001b[0m\u001b[0m\n\u001b[1;32m--> 296\u001b[1;33m         \u001b[0mtime\u001b[0m\u001b[1;33m.\u001b[0m\u001b[0msleep\u001b[0m\u001b[1;33m(\u001b[0m\u001b[0mduration\u001b[0m\u001b[1;33m)\u001b[0m\u001b[1;33m\u001b[0m\u001b[0m\n\u001b[0m",
      "\u001b[1;31mKeyboardInterrupt\u001b[0m: "
     ]
    }
   ],
   "source": [
    "frame_publisher(Cskeleton, sensor)"
   ]
  },
  {
   "cell_type": "code",
   "execution_count": 11,
   "metadata": {
    "collapsed": false
   },
   "outputs": [
    {
     "ename": "KeyboardInterrupt",
     "evalue": "",
     "output_type": "error",
     "traceback": [
      "\u001b[1;31m---------------------------------------------------------------------------\u001b[0m",
      "\u001b[1;31mKeyboardInterrupt\u001b[0m                         Traceback (most recent call last)",
      "\u001b[1;32m<ipython-input-11-2ac2bf05ce33>\u001b[0m in \u001b[0;36m<module>\u001b[1;34m()\u001b[0m\n\u001b[1;32m----> 1\u001b[1;33m \u001b[0mframe_publisher\u001b[0m\u001b[1;33m(\u001b[0m\u001b[0mCskeleton\u001b[0m\u001b[1;33m,\u001b[0m \u001b[0msensor\u001b[0m\u001b[1;33m,\u001b[0m \u001b[0mKskeleton\u001b[0m\u001b[1;33m)\u001b[0m\u001b[1;33m\u001b[0m\u001b[0m\n\u001b[0m",
      "\u001b[1;32m<ipython-input-2-6213e5fcafe0>\u001b[0m in \u001b[0;36mframe_publisher\u001b[1;34m(Cskeleton, sensor, Kskeleton)\u001b[0m\n\u001b[0;32m     10\u001b[0m             tfb.sendTransform(Cskeleton[key][0], Cskeleton[key][1], rospy.Time.now(),\n\u001b[0;32m     11\u001b[0m                               '/human/'+key+'_calibr', '/optitrack_frame')\n\u001b[1;32m---> 12\u001b[1;33m             \u001b[0mrate\u001b[0m\u001b[1;33m.\u001b[0m\u001b[0msleep\u001b[0m\u001b[1;33m(\u001b[0m\u001b[1;33m)\u001b[0m\u001b[1;33m\u001b[0m\u001b[0m\n\u001b[0m",
      "\u001b[1;32m/opt/ros/indigo/lib/python2.7/dist-packages/rospy/timer.pyc\u001b[0m in \u001b[0;36msleep\u001b[1;34m(self)\u001b[0m\n\u001b[0;32m     97\u001b[0m         \"\"\"\n\u001b[0;32m     98\u001b[0m         \u001b[0mcurr_time\u001b[0m \u001b[1;33m=\u001b[0m \u001b[0mrospy\u001b[0m\u001b[1;33m.\u001b[0m\u001b[0mrostime\u001b[0m\u001b[1;33m.\u001b[0m\u001b[0mget_rostime\u001b[0m\u001b[1;33m(\u001b[0m\u001b[1;33m)\u001b[0m\u001b[1;33m\u001b[0m\u001b[0m\n\u001b[1;32m---> 99\u001b[1;33m         \u001b[0msleep\u001b[0m\u001b[1;33m(\u001b[0m\u001b[0mself\u001b[0m\u001b[1;33m.\u001b[0m\u001b[0m_remaining\u001b[0m\u001b[1;33m(\u001b[0m\u001b[0mcurr_time\u001b[0m\u001b[1;33m)\u001b[0m\u001b[1;33m)\u001b[0m\u001b[1;33m\u001b[0m\u001b[0m\n\u001b[0m\u001b[0;32m    100\u001b[0m         \u001b[0mself\u001b[0m\u001b[1;33m.\u001b[0m\u001b[0mlast_time\u001b[0m \u001b[1;33m=\u001b[0m \u001b[0mself\u001b[0m\u001b[1;33m.\u001b[0m\u001b[0mlast_time\u001b[0m \u001b[1;33m+\u001b[0m \u001b[0mself\u001b[0m\u001b[1;33m.\u001b[0m\u001b[0msleep_dur\u001b[0m\u001b[1;33m\u001b[0m\u001b[0m\n\u001b[0;32m    101\u001b[0m \u001b[1;33m\u001b[0m\u001b[0m\n",
      "\u001b[1;32m/opt/ros/indigo/lib/python2.7/dist-packages/rospy/timer.pyc\u001b[0m in \u001b[0;36msleep\u001b[1;34m(duration)\u001b[0m\n\u001b[0;32m    123\u001b[0m             \u001b[1;32mreturn\u001b[0m\u001b[1;33m\u001b[0m\u001b[0m\n\u001b[0;32m    124\u001b[0m         \u001b[1;32melse\u001b[0m\u001b[1;33m:\u001b[0m\u001b[1;33m\u001b[0m\u001b[0m\n\u001b[1;32m--> 125\u001b[1;33m             \u001b[0mrospy\u001b[0m\u001b[1;33m.\u001b[0m\u001b[0mrostime\u001b[0m\u001b[1;33m.\u001b[0m\u001b[0mwallsleep\u001b[0m\u001b[1;33m(\u001b[0m\u001b[0mduration\u001b[0m\u001b[1;33m)\u001b[0m\u001b[1;33m\u001b[0m\u001b[0m\n\u001b[0m\u001b[0;32m    126\u001b[0m     \u001b[1;32melse\u001b[0m\u001b[1;33m:\u001b[0m\u001b[1;33m\u001b[0m\u001b[0m\n\u001b[0;32m    127\u001b[0m         \u001b[0minitial_rostime\u001b[0m \u001b[1;33m=\u001b[0m \u001b[0mrospy\u001b[0m\u001b[1;33m.\u001b[0m\u001b[0mrostime\u001b[0m\u001b[1;33m.\u001b[0m\u001b[0mget_rostime\u001b[0m\u001b[1;33m(\u001b[0m\u001b[1;33m)\u001b[0m\u001b[1;33m\u001b[0m\u001b[0m\n",
      "\u001b[1;32m/opt/ros/indigo/lib/python2.7/dist-packages/rospy/rostime.pyc\u001b[0m in \u001b[0;36mwallsleep\u001b[1;34m(duration)\u001b[0m\n\u001b[0;32m    294\u001b[0m             \u001b[1;32mpass\u001b[0m\u001b[1;33m\u001b[0m\u001b[0m\n\u001b[0;32m    295\u001b[0m     \u001b[1;32melse\u001b[0m\u001b[1;33m:\u001b[0m\u001b[1;33m\u001b[0m\u001b[0m\n\u001b[1;32m--> 296\u001b[1;33m         \u001b[0mtime\u001b[0m\u001b[1;33m.\u001b[0m\u001b[0msleep\u001b[0m\u001b[1;33m(\u001b[0m\u001b[0mduration\u001b[0m\u001b[1;33m)\u001b[0m\u001b[1;33m\u001b[0m\u001b[0m\n\u001b[0m",
      "\u001b[1;31mKeyboardInterrupt\u001b[0m: "
     ]
    }
   ],
   "source": [
    "frame_publisher(Cskeleton, sensor, Kskeleton)"
   ]
  },
  {
   "cell_type": "code",
   "execution_count": null,
   "metadata": {
    "collapsed": true
   },
   "outputs": [],
   "source": []
  }
 ],
 "metadata": {
  "kernelspec": {
   "display_name": "Python 2",
   "language": "python",
   "name": "python2"
  },
  "language_info": {
   "codemirror_mode": {
    "name": "ipython",
    "version": 2
   },
   "file_extension": ".py",
   "mimetype": "text/x-python",
   "name": "python",
   "nbconvert_exporter": "python",
   "pygments_lexer": "ipython2",
   "version": "2.7.6"
  }
 },
 "nbformat": 4,
 "nbformat_minor": 0
}
